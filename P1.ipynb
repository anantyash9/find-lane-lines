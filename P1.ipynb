{
 "cells": [
  {
   "attachments": {},
   "cell_type": "markdown",
   "metadata": {},
   "source": [
    "## Finding Lane Lines"
   ]
  },
  {
   "cell_type": "markdown",
   "metadata": {},
   "source": [
    "## Import Packages"
   ]
  },
  {
   "cell_type": "code",
   "execution_count": 15,
   "metadata": {},
   "outputs": [],
   "source": [
    "#importing some useful packages\n",
    "import matplotlib.pyplot as plt\n",
    "import matplotlib.image as mpimg\n",
    "import numpy as np\n",
    "import cv2\n",
    "%matplotlib inline"
   ]
  },
  {
   "cell_type": "markdown",
   "metadata": {},
   "source": [
    "## Helper Functions and Global Variables "
   ]
  },
  {
   "cell_type": "markdown",
   "metadata": {},
   "source": [
    "Appart from the functions provided three new functions are added here. \n",
    "1. reset_globals()\n",
    "2. hls()\n",
    "3. lane_pass_filter()"
   ]
  },
  {
   "cell_type": "code",
   "execution_count": 16,
   "metadata": {},
   "outputs": [],
   "source": [
    "import math\n",
    "#Global variables\n",
    "\"These variables are used to store the x and y co-ordinates of the last 5 frames.\" \n",
    "glbx =[]\n",
    "gyb =0\n",
    "gltx =[]\n",
    "gyt =0\n",
    "grbx =[]\n",
    "grtx =[]\n",
    "\n",
    "\n",
    "def reset_globals():\n",
    "    \"Resets the global variables\"\n",
    "    global glbx, gyb, gltx, gyt, grbx, grtx\n",
    "    glbx =[]\n",
    "    gyb =0\n",
    "    gltx =[]\n",
    "    gyt =0\n",
    "    grbx =[]\n",
    "    grtx =[]\n",
    "    \n",
    "def grayscale(img):\n",
    "    \"Applies the Grayscale transform\"\n",
    "    return cv2.cvtColor(img, cv2.COLOR_RGB2GRAY)\n",
    "\n",
    "    \n",
    "def hls(img):\n",
    "    \"convert the image to HSL (Hue, Saturation, Lightness) space\"\n",
    "    return cv2.cvtColor(img, cv2.COLOR_RGB2HLS)\n",
    "\n",
    "def lane_pass_filter(img):\n",
    "    \"filters out everything(mostly) that is not white or yellow \"\n",
    "    hls_image = hls(img)\n",
    "    l_thresh = np.uint8([  0, 200,   0])\n",
    "    u_thresh = np.uint8([255, 255, 255])\n",
    "    white_pass = cv2.inRange(hls_image, l_thresh, u_thresh)\n",
    "    l_thresh = np.uint8([ 12,   0, 100])\n",
    "    u_thresh = np.uint8([ 45, 255, 255])\n",
    "    yellow_pass = cv2.inRange(hls_image, l_thresh, u_thresh)\n",
    "    yellow_white_pass = cv2.bitwise_or(white_pass, yellow_pass)\n",
    "    return cv2.bitwise_and(img, img, mask = yellow_white_pass)\n",
    "    \n",
    "def canny(img, low_threshold, high_threshold):\n",
    "    \"\"\"Applies the Canny transform\"\"\"\n",
    "    return cv2.Canny(img, low_threshold, high_threshold)\n",
    "\n",
    "def gaussian_blur(img, kernel_size):\n",
    "    \"\"\"Applies a Gaussian Noise kernel\"\"\"\n",
    "    return cv2.GaussianBlur(img, (kernel_size, kernel_size), 0)\n",
    "\n",
    "def region_of_interest(img, vertices):\n",
    "    \"\"\"\n",
    "    Applies an image mask.\n",
    "    \n",
    "    Only keeps the region of the image defined by the polygon\n",
    "    formed from `vertices`. The rest of the image is set to black.\n",
    "    \"\"\"\n",
    "    #defining a blank mask to start with\n",
    "    mask = np.zeros_like(img)   \n",
    "    \n",
    "    #defining a 3 channel or 1 channel color to fill the mask with depending on the input image\n",
    "    if len(img.shape) > 2:\n",
    "        channel_count = img.shape[2]  # i.e. 3 or 4 depending on your image\n",
    "        ignore_mask_color = (255,) * channel_count\n",
    "    else:\n",
    "        ignore_mask_color = 255\n",
    "        \n",
    "    #filling pixels inside the polygon defined by \"vertices\" with the fill color    \n",
    "    cv2.fillPoly(mask, vertices, ignore_mask_color)\n",
    "    \n",
    "    #returning the image only where mask pixels are nonzero\n",
    "    masked_image = cv2.bitwise_and(img, mask)\n",
    "    return masked_image\n",
    "\n",
    "def draw_lines(img, lines,end_point, color=[255, 0, 0], thickness=10):\n",
    "    \"Creates the best approximation of a left and right lane line\"\n",
    "    global glbx, gyb, gltx, gyt, grbx, grtx\n",
    "    #left and right lane line slope\n",
    "    left=[]\n",
    "    right=[]\n",
    "    #left and right x and y coordinates \n",
    "    left_x =[]\n",
    "    left_y =[]\n",
    "    right_x =[]\n",
    "    right_y =[]\n",
    "    imshape = img.shape\n",
    "    # only use this if there are lines to begin with else use running average from last 5 frames\n",
    "    if lines !=None:\n",
    "            for line in lines:\n",
    "                for x1,y1,x2,y2 in line:\n",
    "                    slope = ((y2-y1)/(x2-x1))\n",
    "                    if (abs(slope) >= .5 and abs(slope)<=2):\n",
    "                        if (slope>0 and x1>(imshape[1]/2) and  x1>(imshape[1]/2) ):\n",
    "                            left_x.append(x1)\n",
    "                            left_x.append(x2)\n",
    "                            left_y.append(y1)\n",
    "                            left_y.append(y2)\n",
    "                            left.append(slope)\n",
    "                        elif (slope<0  and x1<(imshape[1]/2) and  x1<(imshape[1]/2) ):\n",
    "                            right_x.append(x1)\n",
    "                            right_x.append(x2)\n",
    "                            right_y.append(y1)\n",
    "                            right_y.append(y2)                \n",
    "                            right.append(slope)\n",
    "                            \n",
    "    if len(left)!=0 and len(right)!=0:\n",
    "        # find the average slope for left and right lane\n",
    "        left_slope = float(sum(left)) / len(left)\n",
    "        right_slope = float(sum(right)) / len(right)\n",
    "        # find average x and y position for each lane\n",
    "        l_x = int(sum(left_x) / len(left_x))\n",
    "        l_y = int(sum(left_y) / len(left_y))\n",
    "        r_x = sum(right_x) / len(right_x)\n",
    "        r_y = sum(right_y) / len(right_y)\n",
    "        # The endpoints for the extrapolated line \n",
    "        yb =imshape[0]\n",
    "        yt =int(end_point)\n",
    "        # The 'c' in y=mx+c \n",
    "        lc = l_y-(left_slope*l_x)\n",
    "        # Find the top and bottom points using the calculated 'c'.\n",
    "        lbx= int((yb-lc)/left_slope)\n",
    "        ltx= int((yt-lc)/left_slope)\n",
    "        # The 'c' for right lane\n",
    "        rc = r_y-(right_slope*r_x)\n",
    "        rbx= int((yb-rc)/right_slope)\n",
    "        rtx= int((yt-rc)/right_slope)\n",
    "        # maintain the values for last 5 frames in global variables\n",
    "        if len(glbx)> 6:\n",
    "            glbx.pop(0)\n",
    "            gltx.pop(0)\n",
    "            grbx.pop(0)\n",
    "            grtx.pop(0)\n",
    "        glbx.append(lbx)\n",
    "        gyb =yb\n",
    "        gltx.append(ltx)\n",
    "        gyt =yt\n",
    "        grbx.append(rbx)\n",
    "        grtx.append(rtx)\n",
    "        # use the average value from last 5 frames to counter hyper-sensitivity of lane line\n",
    "        lbx =int(int(sum(glbx) / len(glbx)))\n",
    "        ltx =int(int(sum(gltx) / len(gltx)))\n",
    "        rbx =int(int(sum(grbx) / len(grbx)))\n",
    "        rtx =int(int(sum(grtx) / len(grtx)))         \n",
    "            \n",
    "    else:\n",
    "        # use stored average if the lane in current frame is not recognized\n",
    "        yb =gyb\n",
    "        yt =gyt\n",
    "        lbx =int(int(sum(glbx) / len(glbx)))\n",
    "        ltx =int(int(sum(gltx) / len(gltx)))\n",
    "        rbx =int(int(sum(grbx) / len(grbx)))\n",
    "        rtx =int(int(sum(grtx) / len(grtx))) \n",
    "        \n",
    "    \n",
    "    cv2.line(img, (lbx,yb),(ltx,yt), color, thickness)\n",
    "    cv2.line(img, (rbx,yb),(rtx,yt), color, thickness)\n",
    " \n",
    "def hough_lines(img, rho, theta, threshold, min_line_len, max_line_gap,end_point):\n",
    "    \"\"\"\n",
    "    `img` should be the output of a Canny transform.\n",
    "        \n",
    "    Returns an image with hough lines drawn.\n",
    "    \"\"\"\n",
    "    lines = cv2.HoughLinesP(img, rho, theta, threshold, np.array([]), minLineLength=min_line_len, maxLineGap=max_line_gap)\n",
    "    line_img = np.zeros((img.shape[0], img.shape[1], 3), dtype=np.uint8)\n",
    "    draw_lines(line_img, lines,end_point)\n",
    "    return line_img\n",
    "\n",
    "# Python 3 has support for cool math symbols.\n",
    "\n",
    "def weighted_img(img, initial_img, α=0.8, β=1., γ=0.):\n",
    "    \"\"\"\n",
    "    `img` is the output of the hough_lines(), An image with lines drawn on it.\n",
    "    Should be a blank image (all black) with lines drawn on it.\n",
    "    \n",
    "    `initial_img` should be the image before any processing.\n",
    "    \n",
    "    The result image is computed as follows:\n",
    "    \n",
    "    initial_img * α + img * β + γ\n",
    "    NOTE: initial_img and img must be the same shape!\n",
    "    \"\"\"\n",
    "    return cv2.addWeighted(initial_img, α, img, β, γ)\n"
   ]
  },
  {
   "cell_type": "markdown",
   "metadata": {},
   "source": [
    "## Build a Lane Finding Pipeline\n",
    "\n"
   ]
  },
  {
   "cell_type": "markdown",
   "metadata": {},
   "source": [
    "process_static_image() finds and draws lane lines over test images"
   ]
  },
  {
   "cell_type": "code",
   "execution_count": 17,
   "metadata": {},
   "outputs": [],
   "source": [
    "import os\n",
    "\n",
    "def process_static_image(image):\n",
    "    \" Draw lanes on images\"\n",
    "    # filter out everything but the lanes\n",
    "    img = lane_pass_filter(image)\n",
    "    # convert to greyscale and apply blur\n",
    "    gray = grayscale(img)\n",
    "    blur_gray = gaussian_blur(gray,7)\n",
    "    # edge dectection\n",
    "    edges = canny(blur_gray,50,150)\n",
    "    # create a mask for region of interest\n",
    "    imshape = image.shape\n",
    "    vertices = np.array([[(0,imshape[0]),((imshape[1]/2)-20,(imshape[0]/2)+50), ((imshape[1]/2)+20,(imshape[0]/2)+50), (imshape[1],imshape[0])]], dtype=np.int32)\n",
    "    masked_image = region_of_interest(edges,vertices)\n",
    "    rho = 2 # distance resolution in pixels of the Hough grid\n",
    "    theta = np.pi/180 # angular resolution in radians of the Hough grid\n",
    "    threshold = 15     # minimum number of votes (intersections in Hough grid cell)\n",
    "    min_line_length = 40 #minimum number of pixels making up a line\n",
    "    max_line_gap = 20    # maximum gap in pixels between connectable line segments\n",
    "    region_end_point = (imshape[0]/2)+60 # the topmost point to which lane lines will be drawn\n",
    "    transformed_img = hough_lines(masked_image, rho, theta, threshold, min_line_length, max_line_gap,region_end_point)\n",
    "    weighted = weighted_img(transformed_img,image)\n",
    "    \n",
    "    return weighted\n",
    "\n",
    "all_images = os.listdir(\"test_images/\")\n",
    "# loop at all test images\n",
    "for image in all_images:\n",
    "    img = mpimg.imread(\"test_images/\"+image)\n",
    "    # reset global variables to skip averaging lane co ordinates \n",
    "    reset_globals()\n",
    "    # process the image\n",
    "    img = process_static_image(img)\n",
    "    # save image\n",
    "    plt.imsave(\"test_images_output/\"+image,img)\n",
    "    \n",
    "    \n",
    "    \n"
   ]
  },
  {
   "cell_type": "markdown",
   "metadata": {},
   "source": [
    "## Test on Videos\n",
    "\n",
    "The functions process_image() and process_image_challenge() are nearly identical with just one variable changed to a different value. "
   ]
  },
  {
   "cell_type": "code",
   "execution_count": 18,
   "metadata": {},
   "outputs": [],
   "source": [
    "# Import everything needed to edit/save/watch video clips\n",
    "from moviepy.editor import VideoFileClip\n",
    "from IPython.display import HTML"
   ]
  },
  {
   "cell_type": "code",
   "execution_count": 19,
   "metadata": {},
   "outputs": [],
   "source": [
    "def process_image(image):\n",
    "    \n",
    "    # filter out everything but the lanes\n",
    "    img = lane_pass_filter(image)\n",
    "    # convert to greyscale and apply blur\n",
    "    gray = grayscale(img)\n",
    "    blur_gray = gaussian_blur(gray,7)\n",
    "    # edge dectection\n",
    "    edges = canny(blur_gray,50,150)\n",
    "    # create a mask for region of interest\n",
    "    imshape = image.shape\n",
    "    vertices = np.array([[(0,imshape[0]),((imshape[1]/2)-20,(imshape[0]/2)+50), ((imshape[1]/2)+20,(imshape[0]/2)+50), (imshape[1],imshape[0])]], dtype=np.int32)\n",
    "    masked_image = region_of_interest(edges,vertices)\n",
    "    rho = 2 # distance resolution in pixels of the Hough grid\n",
    "    theta = np.pi/180 # angular resolution in radians of the Hough grid\n",
    "    threshold = 15     # minimum number of votes (intersections in Hough grid cell)\n",
    "    min_line_length = 40 #minimum number of pixels making up a line\n",
    "    max_line_gap = 20    # maximum gap in pixels between connectable line segments\n",
    "    region_end_point = (imshape[0]/2)+60 # top most point to which lane lines will be drawn\n",
    "    transformed_img = hough_lines(masked_image, rho, theta, threshold, min_line_length, max_line_gap,region_end_point)\n",
    "    weighted = weighted_img(transformed_img,image)\n",
    "    \n",
    "    return weighted\n",
    "\n",
    "def process_image_challenge(image):\n",
    "    \n",
    "    'Same as process_image() with a slightly greater value of region_end_point for the challenge clip '\n",
    "    img = lane_pass_filter(image)\n",
    "    gray = grayscale(img)\n",
    "    blur_gray = gaussian_blur(gray,7)\n",
    "    edges = canny(blur_gray,50,150)\n",
    "    imshape = image.shape\n",
    "    vertices = np.array([[(0,imshape[0]),((imshape[1]/2)-20,(imshape[0]/2)+80), ((imshape[1]/2)+20,(imshape[0]/2)+80), (imshape[1],imshape[0])]], dtype=np.int32)\n",
    "    masked_image = region_of_interest(edges,vertices)\n",
    "    rho = 2 # distance resolution in pixels of the Hough grid\n",
    "    theta = np.pi/180 # angular resolution in radians of the Hough grid\n",
    "    threshold = 15     # minimum number of votes (intersections in Hough grid cell)\n",
    "    min_line_length = 40 #minimum number of pixels making up a line\n",
    "    max_line_gap = 20    # maximum gap in pixels between connectable line segments\n",
    "    region_end_point = (imshape[0]/2)+80 # top most point to which lane lines will be drawn\n",
    "    transformed_img = hough_lines(masked_image, rho, theta, threshold, min_line_length, max_line_gap,region_end_point)\n",
    "    weighted = weighted_img(transformed_img,image)\n",
    "    return weighted "
   ]
  },
  {
   "cell_type": "markdown",
   "metadata": {},
   "source": [
    "Let's try the one with the solid white lane on the right first ..."
   ]
  },
  {
   "cell_type": "code",
   "execution_count": 20,
   "metadata": {},
   "outputs": [
    {
     "name": "stdout",
     "output_type": "stream",
     "text": [
      "[MoviePy] >>>> Building video test_videos_output/solidWhiteRight.mp4\n",
      "[MoviePy] Writing video test_videos_output/solidWhiteRight.mp4\n"
     ]
    },
    {
     "name": "stderr",
     "output_type": "stream",
     "text": [
      "100%|███████████████████████████████████████████████████████████████████████████████████████████████████████████████████████████████▍| 221/222 [00:12<00:00, 22.83it/s]\n"
     ]
    },
    {
     "name": "stdout",
     "output_type": "stream",
     "text": [
      "[MoviePy] Done.\n",
      "[MoviePy] >>>> Video ready: test_videos_output/solidWhiteRight.mp4 \n",
      "\n",
      "Wall time: 14 s\n"
     ]
    }
   ],
   "source": [
    "white_output = 'test_videos_output/solidWhiteRight.mp4'\n",
    "clip1 = VideoFileClip(\"test_videos/solidWhiteRight.mp4\")\n",
    "white_clip = clip1.fl_image(process_image)\n",
    "%time white_clip.write_videofile(white_output, audio=False)"
   ]
  },
  {
   "cell_type": "markdown",
   "metadata": {},
   "source": [
    "Play the video inline, or if you prefer find the video in your filesystem (should be in the same directory) and play it in your video player of choice."
   ]
  },
  {
   "cell_type": "code",
   "execution_count": 21,
   "metadata": {},
   "outputs": [
    {
     "data": {
      "text/html": [
       "\n",
       "<video width=\"960\" height=\"540\" controls>\n",
       "  <source src=\"test_videos_output/solidWhiteRight.mp4\">\n",
       "</video>\n"
      ],
      "text/plain": [
       "<IPython.core.display.HTML object>"
      ]
     },
     "execution_count": 21,
     "metadata": {},
     "output_type": "execute_result"
    }
   ],
   "source": [
    "HTML(\"\"\"\n",
    "<video width=\"960\" height=\"540\" controls>\n",
    "  <source src=\"{0}\">\n",
    "</video>\n",
    "\"\"\".format(white_output))"
   ]
  },
  {
   "cell_type": "markdown",
   "metadata": {},
   "source": [
    "Now for the one with the solid yellow lane on the left. This one's more tricky!"
   ]
  },
  {
   "cell_type": "code",
   "execution_count": 22,
   "metadata": {},
   "outputs": [
    {
     "name": "stdout",
     "output_type": "stream",
     "text": [
      "[MoviePy] >>>> Building video test_videos_output/solidYellowLeft.mp4\n",
      "[MoviePy] Writing video test_videos_output/solidYellowLeft.mp4\n"
     ]
    },
    {
     "name": "stderr",
     "output_type": "stream",
     "text": [
      "100%|███████████████████████████████████████████████████████████████████████████████████████████████████████████████████████████████▊| 681/682 [00:36<00:00, 18.72it/s]\n"
     ]
    },
    {
     "name": "stdout",
     "output_type": "stream",
     "text": [
      "[MoviePy] Done.\n",
      "[MoviePy] >>>> Video ready: test_videos_output/solidYellowLeft.mp4 \n",
      "\n",
      "Wall time: 38 s\n"
     ]
    }
   ],
   "source": [
    "yellow_output = 'test_videos_output/solidYellowLeft.mp4'\n",
    "# reset global variables between clips\n",
    "reset_globals()\n",
    "clip2 = VideoFileClip('test_videos/solidYellowLeft.mp4')\n",
    "yellow_clip = clip2.fl_image(process_image)\n",
    "%time yellow_clip.write_videofile(yellow_output, audio=False)"
   ]
  },
  {
   "cell_type": "code",
   "execution_count": 23,
   "metadata": {},
   "outputs": [
    {
     "data": {
      "text/html": [
       "\n",
       "<video width=\"960\" height=\"540\" controls>\n",
       "  <source src=\"test_videos_output/solidYellowLeft.mp4\">\n",
       "</video>\n"
      ],
      "text/plain": [
       "<IPython.core.display.HTML object>"
      ]
     },
     "execution_count": 23,
     "metadata": {},
     "output_type": "execute_result"
    }
   ],
   "source": [
    "HTML(\"\"\"\n",
    "<video width=\"960\" height=\"540\" controls>\n",
    "  <source src=\"{0}\">\n",
    "</video>\n",
    "\"\"\".format(yellow_output))"
   ]
  },
  {
   "cell_type": "markdown",
   "metadata": {
    "collapsed": true
   },
   "source": [
    "## Optional Challenge\n",
    "\n",
    "It works !!"
   ]
  },
  {
   "cell_type": "code",
   "execution_count": 24,
   "metadata": {},
   "outputs": [
    {
     "name": "stdout",
     "output_type": "stream",
     "text": [
      "[MoviePy] >>>> Building video test_videos_output/challenge.mp4\n",
      "[MoviePy] Writing video test_videos_output/challenge.mp4\n"
     ]
    },
    {
     "name": "stderr",
     "output_type": "stream",
     "text": [
      "100%|████████████████████████████████████████████████████████████████████████████████████████████████████████████████████████████████| 251/251 [00:26<00:00,  4.84it/s]\n"
     ]
    },
    {
     "name": "stdout",
     "output_type": "stream",
     "text": [
      "[MoviePy] Done.\n",
      "[MoviePy] >>>> Video ready: test_videos_output/challenge.mp4 \n",
      "\n",
      "Wall time: 28.9 s\n"
     ]
    }
   ],
   "source": [
    "challenge_output = 'test_videos_output/challenge.mp4'\n",
    "# reset global variables between clips\n",
    "reset_globals()\n",
    "clip3 = VideoFileClip('test_videos/challenge.mp4')\n",
    "challenge_clip = clip3.fl_image(process_image_challenge)\n",
    "%time challenge_clip.write_videofile(challenge_output, audio=False)"
   ]
  },
  {
   "cell_type": "code",
   "execution_count": 25,
   "metadata": {},
   "outputs": [
    {
     "data": {
      "text/html": [
       "\n",
       "<video width=\"960\" height=\"540\" controls>\n",
       "  <source src=\"test_videos_output/challenge.mp4\">\n",
       "</video>\n"
      ],
      "text/plain": [
       "<IPython.core.display.HTML object>"
      ]
     },
     "execution_count": 25,
     "metadata": {},
     "output_type": "execute_result"
    }
   ],
   "source": [
    "HTML(\"\"\"\n",
    "<video width=\"960\" height=\"540\" controls>\n",
    "  <source src=\"{0}\">\n",
    "</video>\n",
    "\"\"\".format(challenge_output))"
   ]
  }
 ],
 "metadata": {
  "anaconda-cloud": {},
  "kernelspec": {
   "display_name": "Python [conda env:carnd-term1]",
   "language": "python",
   "name": "conda-env-carnd-term1-py"
  },
  "language_info": {
   "codemirror_mode": {
    "name": "ipython",
    "version": 3
   },
   "file_extension": ".py",
   "mimetype": "text/x-python",
   "name": "python",
   "nbconvert_exporter": "python",
   "pygments_lexer": "ipython3",
   "version": "3.5.2"
  },
  "widgets": {
   "state": {},
   "version": "1.1.2"
  }
 },
 "nbformat": 4,
 "nbformat_minor": 1
}
